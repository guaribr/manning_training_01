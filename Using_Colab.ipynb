{
  "nbformat": 4,
  "nbformat_minor": 0,
  "metadata": {
    "colab": {
      "provenance": [],
      "mount_file_id": "17kfJSOxETYrfIexzOGGsvMvLkdPdNX2Z",
      "authorship_tag": "ABX9TyMpFxS2xXse3jKugYSPp9AV",
      "include_colab_link": true
    },
    "kernelspec": {
      "name": "python3",
      "display_name": "Python 3"
    },
    "language_info": {
      "name": "python"
    }
  },
  "cells": [
    {
      "cell_type": "markdown",
      "metadata": {
        "id": "view-in-github",
        "colab_type": "text"
      },
      "source": [
        "<a href=\"https://colab.research.google.com/github/guaribr/manning_training_01/blob/master/Using_Colab.ipynb\" target=\"_parent\"><img src=\"https://colab.research.google.com/assets/colab-badge.svg\" alt=\"Open In Colab\"/></a>"
      ]
    },
    {
      "cell_type": "code",
      "execution_count": 62,
      "metadata": {
        "colab": {
          "base_uri": "https://localhost:8080/"
        },
        "id": "vf3mGwHCVv49",
        "outputId": "55b18ac6-7ce9-434c-df20-8c864ca0701a"
      },
      "outputs": [
        {
          "output_type": "stream",
          "name": "stdout",
          "text": [
            "Drive already mounted at /content/drive/; to attempt to forcibly remount, call drive.mount(\"/content/drive/\", force_remount=True).\n"
          ]
        }
      ],
      "source": [
        "from google.colab import drive\n",
        "import pickle\n",
        "import string\n",
        "from joblib import dump, load\n",
        "from sklearn.feature_extraction.text import CountVectorizer\n",
        "from sklearn.model_selection import train_test_split\n",
        "from sklearn.naive_bayes import MultinomialNB\n",
        "drive.mount(\"/content/drive/\")\n",
        "location = 'drive/MyDrive/Learning/Python/Using Colab/'"
      ]
    },
    {
      "cell_type": "code",
      "source": [
        "labels = []\n",
        "texts = []\n",
        "with open(location+\"SMSSpamCollection.txt\") as f:\n",
        "    for l in f:\n",
        "        label, text = l.strip().split(\"\\t\")\n",
        "        labels.append(label)\n",
        "        text = \"\".join([ch.lower() for ch in text if ch not in string.punctuation])\n",
        "        texts.append(text)"
      ],
      "metadata": {
        "id": "4K-B-zedfbxx"
      },
      "execution_count": 60,
      "outputs": []
    },
    {
      "cell_type": "code",
      "source": [
        "X_train_raw, X_test_raw, y_train, y_test = train_test_split(texts, labels, random_state=42)"
      ],
      "metadata": {
        "id": "PbyiF1nLogoY"
      },
      "execution_count": 63,
      "outputs": []
    },
    {
      "cell_type": "code",
      "source": [
        "# train-test split\n",
        "X_train_raw, X_test_raw, y_train, y_test = train_test_split(texts, labels, random_state=42)"
      ],
      "metadata": {
        "id": "AvSTUYFVrXAu"
      },
      "execution_count": 66,
      "outputs": []
    },
    {
      "cell_type": "code",
      "source": [
        "# vectorize training and test\n",
        "vectorizer = CountVectorizer() # only training vocab counts!\n",
        "X_train = vectorizer.fit_transform(X_train_raw)\n",
        "vctrzr = CountVectorizer(vocabulary=vectorizer.vocabulary_)\n",
        "X_test = vctrzr.fit_transform(X_test_raw)"
      ],
      "metadata": {
        "id": "SLiei63xrl0V"
      },
      "execution_count": 67,
      "outputs": []
    },
    {
      "cell_type": "code",
      "source": [
        "to_be_saved = [X_train, X_test, y_train, y_test]\n",
        "with open(\"drive/MyDrive/Learning/Python/Using Colab/vectorized_data.p\", \"wb\") as outfile:\n",
        "  pickle.dump(to_be_saved, outfile)"
      ],
      "metadata": {
        "id": "mVRSFfiDrrTF"
      },
      "execution_count": 68,
      "outputs": []
    },
    {
      "cell_type": "code",
      "source": [
        "# train MultinomialNB\n",
        "clf = MultinomialNB()\n",
        "clf.fit(X_train, y_train)\n",
        "\n",
        "dump(clf, \"drive/MyDrive/Learning/Python/Using Colab/NB.joblib\")"
      ],
      "metadata": {
        "colab": {
          "base_uri": "https://localhost:8080/"
        },
        "id": "pE935T6qr_Nd",
        "outputId": "026fe677-eee1-470e-eb1e-05f06e9e4bc4"
      },
      "execution_count": 70,
      "outputs": [
        {
          "output_type": "execute_result",
          "data": {
            "text/plain": [
              "['drive/MyDrive/Learning/Python/Using Colab/NB.joblib']"
            ]
          },
          "metadata": {},
          "execution_count": 70
        }
      ]
    },
    {
      "cell_type": "code",
      "source": [
        "print(len(X_train.toarray()[0]))"
      ],
      "metadata": {
        "colab": {
          "base_uri": "https://localhost:8080/"
        },
        "id": "gdMIos75sOOA",
        "outputId": "57abb6e5-e7d4-4000-ae2a-3c900f0a4466"
      },
      "execution_count": 71,
      "outputs": [
        {
          "output_type": "stream",
          "name": "stdout",
          "text": [
            "8110\n"
          ]
        }
      ]
    },
    {
      "cell_type": "code",
      "source": [
        "from sklearn.metrics import classification_report\n",
        "\n",
        "clf = load(\"drive/MyDrive/Learning/Python/Using Colab/NB.joblib\")\n",
        "y_pred = clf.predict(X_test)\n",
        "\n",
        "print(classification_report(y_test, y_pred))"
      ],
      "metadata": {
        "colab": {
          "base_uri": "https://localhost:8080/"
        },
        "id": "Th-o4OpqsSZN",
        "outputId": "a3706105-4ef1-4d03-9331-7a60c0b12d2c"
      },
      "execution_count": 72,
      "outputs": [
        {
          "output_type": "stream",
          "name": "stdout",
          "text": [
            "              precision    recall  f1-score   support\n",
            "\n",
            "         ham       0.99      1.00      0.99      1203\n",
            "        spam       0.97      0.92      0.95       191\n",
            "\n",
            "    accuracy                           0.99      1394\n",
            "   macro avg       0.98      0.96      0.97      1394\n",
            "weighted avg       0.99      0.99      0.99      1394\n",
            "\n"
          ]
        }
      ]
    }
  ]
}