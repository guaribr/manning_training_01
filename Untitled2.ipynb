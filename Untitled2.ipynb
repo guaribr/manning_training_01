{
 "cells": [
  {
   "cell_type": "code",
   "execution_count": 1,
   "metadata": {},
   "outputs": [],
   "source": [
    "import pandas as pd\n",
    "import re\n",
    "\n",
    "dataset = pd.read_csv('../data/stackexchange_812k.csv')"
   ]
  },
  {
   "cell_type": "code",
   "execution_count": 2,
   "metadata": {},
   "outputs": [],
   "source": [
    "# Clean data\n",
    "\n",
    "#Remove Latex expressions, HTML, Digits and unwanted characters\n",
    "latex = r\"(\\$+)(?:(?!\\1)[\\s\\S])*\\1\"\n",
    "html = ('<.*?>|&([a-z0-9]+|#[0-9]{1,6}|#x[0-9a-f]{1,6});')\n",
    "signs = [\"+\",\"*\",\"$\",\"#\",\"%\",\"^\",\"(\",\")\", \"=\",\"{\",\"}\",\"[\",\"]\",\"-\",\"@\",\"<\",\"'\", \"/\", '\"', \"&\"]\n",
    "digits = r\"[0-9]\"\n",
    "# Characters to keep\n",
    "signs_keep = [\":\",\"?\",\"!\",\".\",\";\"]\n",
    "\n",
    "# loop tp clean the data\n",
    "cleaned =[]\n",
    "\n",
    "for line in dataset['text']:\n",
    "    text = line\n",
    "    text = re.sub(latex, \" \", text, 0, re.MULTILINE)\n",
    "    text = re.sub(html, \" \", text, 0, re.MULTILINE)\n",
    "    text = re.sub(digits, \" \", text, 0, re.MULTILINE)\n",
    "    for keep in signs_keep:\n",
    "        text = text.replace(keep, \" \"+keep+\" \")\n",
    "    for sign in signs:\n",
    "        text = text.replace(sign, \" \")\n",
    "        text = text.strip()\n",
    "        text = \" \".join(text.split())\n",
    "        text = text.lower()\n",
    "    \n",
    "    cleaned.append(text)"
   ]
  },
  {
   "cell_type": "code",
   "execution_count": 3,
   "metadata": {},
   "outputs": [],
   "source": [
    "# Join cleaned data with dataset\n",
    "dataset['cleaned'] = cleaned"
   ]
  },
  {
   "cell_type": "code",
   "execution_count": 4,
   "metadata": {},
   "outputs": [],
   "source": [
    "# # Create a word count\n",
    "word_count = []\n",
    "for i in dataset['cleaned']:\n",
    "    text = i\n",
    "    count = len(text.split())\n",
    "    word_count.append(count)\n",
    "    dataset['word_count'] = word_count"
   ]
  },
  {
   "cell_type": "code",
   "execution_count": 7,
   "metadata": {},
   "outputs": [],
   "source": [
    "# Remove cells with less than two words and more than 999\n",
    "dataset = dataset[dataset['word_count']>2]\n",
    "dataset = dataset[dataset['word_count']<1000]\n",
    "del dataset['word_count']"
   ]
  },
  {
   "cell_type": "code",
   "execution_count": 8,
   "metadata": {},
   "outputs": [],
   "source": [
    "# Save the data to csv\n",
    "dataset.to_csv(r'../data/output_file.csv')"
   ]
  }
 ],
 "metadata": {
  "kernelspec": {
   "display_name": "Python 3",
   "language": "python",
   "name": "python3"
  },
  "language_info": {
   "codemirror_mode": {
    "name": "ipython",
    "version": 3
   },
   "file_extension": ".py",
   "mimetype": "text/x-python",
   "name": "python",
   "nbconvert_exporter": "python",
   "pygments_lexer": "ipython3",
   "version": "3.7.4"
  }
 },
 "nbformat": 4,
 "nbformat_minor": 4
}
